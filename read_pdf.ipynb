{
 "cells": [
  {
   "cell_type": "code",
   "execution_count": 1,
   "metadata": {},
   "outputs": [],
   "source": [
    "import matplotlib.pyplot as plt\n",
    "import pandas as pd\n",
    "import numpy as np\n",
    "import camelot\n",
    "import PyPDF2\n",
    "import os"
   ]
  },
  {
   "cell_type": "code",
   "execution_count": 2,
   "metadata": {},
   "outputs": [],
   "source": [
    "def contains(of:str, contains:list) -> bool:\n",
    "    for cont in contains:\n",
    "        if cont in of:\n",
    "            return True\n",
    "    \n",
    "    return False"
   ]
  },
  {
   "cell_type": "code",
   "execution_count": 3,
   "metadata": {},
   "outputs": [],
   "source": [
    "def classify_file(file_path):\n",
    "    try:\n",
    "        extension = os.path.splitext(file_path)[1]\n",
    "\n",
    "        match extension:\n",
    "            case \".pdf\":\n",
    "                with open(file_path, \"rb\") as file:\n",
    "                    reader = PyPDF2.PdfReader(file)\n",
    "                    content = reader.pages[0].extract_text()\n",
    "            case \".xlsx\":\n",
    "                content = pd.read_excel(file_path).to_string()\n",
    "            case \".xlsb\":\n",
    "                content = pd.read_excel(file_path, engine='pyxlsb').to_string()\n",
    "            case _:\n",
    "                return \"OTHER\"\n",
    "\n",
    "        content = content.lower()\n",
    "        if \"wrapbook\" in content:\n",
    "            return \"OTHER\"\n",
    "        elif \"purchase order\" in content:\n",
    "            return \"PO\"\n",
    "        elif \"payroll\" in content:\n",
    "            return \"PR\"\n",
    "        elif \"hot budget\" in content:\n",
    "            return \"CS\"\n",
    "        else:\n",
    "            return \"OTHER\"\n",
    "    except:\n",
    "        print(\"classification error at \", file_path)\n",
    "        return \"OTHER\""
   ]
  },
  {
   "cell_type": "code",
   "execution_count": 4,
   "metadata": {},
   "outputs": [],
   "source": [
    "def get_dept_from_line(ln:int) -> str:\n",
    "    try:\n",
    "        ln = int(ln)\n",
    "    except ValueError:\n",
    "        return ln\n",
    "\n",
    "    if ln in range(51):\n",
    "        return \"PRE-PRODUCTION | WRAP LABOR\"\n",
    "    elif ln in range(51, 101):\n",
    "        return \"SHOOTING LABOR\"\n",
    "    elif ln in range(101, 114):\n",
    "        return \"PRE-PRODUCTION | WRAP EXPENSES\"\n",
    "    elif ln in range(114, 140):\n",
    "        return \"LOCATION AND TRAVEL\"\n",
    "    elif ln in range(140,151):\n",
    "        return \"MAKEUP, WARDROBE, AND ANIMALS\"\n",
    "    elif ln in range(151, 168):\n",
    "        return \"STUDIO | STAGE RENTAL / EXPENSES\"\n",
    "    elif ln in range(168,181):\n",
    "        return \"ART DEPARTMENT LABOR\"\n",
    "    elif ln in range(181, 193):\n",
    "        return \"ART DEPARTMENT EXPENSES\"\n",
    "    elif ln in range(193, 211):\n",
    "        return \"EQUIPMENT COSTS\"\n",
    "    elif ln in range(211, 217):\n",
    "        return \"FILMSTOCK, DEVELOP AND PRINT\"\n",
    "    elif ln in range(217,227):\n",
    "        return \"MISCELLANEOUS\"\n",
    "    elif ln in range(227, 234):\n",
    "        return \"DIRECTOR | CREATIVE FEES\"\n",
    "    elif ln in range(234, 271):\n",
    "        return \"TALENT LABOR\"\n",
    "    elif ln in range(271, 277):\n",
    "        return \"TALENT EXPENSES\"\n",
    "    elif ln in range(277, 282):\n",
    "        return \"POST PRODUCTION LABOR\"\n",
    "    elif ln in range(282, 330):\n",
    "        return \"EDITORIAL | FINISHING | POST PRODUCTION\"\n",
    "    else:\n",
    "        return \"OTHER\""
   ]
  },
  {
   "cell_type": "code",
   "execution_count": 5,
   "metadata": {},
   "outputs": [],
   "source": [
    "def read_cost_summary(_df) -> pd.DataFrame:\n",
    "    _df = _df.copy()\n",
    "\n",
    "    x = _df.loc[0]\n",
    "    x[1] = \"drop\"\n",
    "\n",
    "    _df.columns = x\n",
    "    _df.drop(columns=[\"drop\"], inplace=True)\n",
    "    _df = _df.loc[1:]\n",
    "    _df.drop(12, inplace=True)\n",
    "\n",
    "    _df = _df.replace([r\"CS\\d+\\b \", r\".*\\n\", \"\\)\", \",\"], \"\", regex=True).replace(\"\\(\", \"-\", regex=True)\n",
    "\n",
    "    _df.iloc[:, 1:] = _df.iloc[:, 1:].replace(\"\", np.nan).astype(float)\n",
    "\n",
    "    # _df = _df.dropna(thresh=3).fillna(0.0) # if drop empty rows\n",
    "\n",
    "    return _df.reset_index(drop=True)"
   ]
  },
  {
   "cell_type": "code",
   "execution_count": 6,
   "metadata": {},
   "outputs": [],
   "source": [
    "PR_COLS = ['LINE', 'PAYEE', 'PO', 'F1', 'F2', 'DAYS', 'RATE', 'BASE', '1.5', '2', '3', 'TAXABLE', 'NON-TAX', 'TOTAL ST', 'TOTAL OT', 'ACTUAL', 'FRINGE 1', 'FRINGE 2', 'LINE DESCRIPTION']\n",
    "\n",
    "def read_pdf_payroll(path) -> pd.DataFrame:\n",
    "    _df = camelot.read_pdf(path)._tables[0].df.copy()\n",
    "    \n",
    "    _df.columns = PR_COLS\n",
    "    _df = _df.iloc[1:].reset_index(drop=True).replace(\"\", np.nan).dropna(how=\"all\")\n",
    "\n",
    "    _df.LINE.fillna(_df.PAYEE, inplace=True)\n",
    "    _df[['LINE', 'PAYEE']] = _df.LINE.str.split(\" \", n=1, expand=True)\n",
    "\n",
    "    _df = _df.replace([\"\\)\", \",\"], \"\", regex=True).replace(\"\\(\", \"-\", regex=True)\n",
    "    _df.ACTUAL = _df.ACTUAL.astype(float)\n",
    "\n",
    "    return _df"
   ]
  },
  {
   "cell_type": "code",
   "execution_count": 7,
   "metadata": {},
   "outputs": [],
   "source": [
    "\n",
    "PO_COLS = [\"LINE\", \"PAYEE\", \"PO\", \"DATE\", \"PAYID\", \"ACTUAL\", \"LINE DESCRIPTION\"]\n",
    "\n",
    "def read_pdf_purchase_order(path) -> pd.DataFrame:\n",
    "    _df = camelot.read_pdf(path)._tables[0].df.copy()\n",
    "    \n",
    "    _df.columns = PO_COLS\n",
    "    _df = _df.iloc[1:].reset_index(drop=True).replace(\"\", np.nan).dropna(how=\"all\")\n",
    "\n",
    "    _df.LINE.fillna(_df.PAYEE, inplace=True)\n",
    "    _df[['LINE', 'PAYEE']] = _df.LINE.str.split(\" \", n=1, expand=True)\n",
    "\n",
    "    _df.ACTUAL.fillna(_df[\"LINE DESCRIPTION\"], inplace=True)\n",
    "    _df[['ACTUAL', 'LINE DESCRIPTION']] = _df.ACTUAL.str.split(\" \", n=1, expand=True)\n",
    "\n",
    "    _df = _df.replace([\"\\)\", \",\"], \"\", regex=True).replace(\"\\(\", \"-\", regex=True)\n",
    "    _df.ACTUAL = _df.ACTUAL.astype(float)\n",
    "\n",
    "    return _df"
   ]
  },
  {
   "cell_type": "code",
   "execution_count": 8,
   "metadata": {},
   "outputs": [],
   "source": [
    "def read_sheet(path, extension) -> pd.DataFrame:\n",
    "    match extension:\n",
    "        case \".xlsx\":\n",
    "            _df = pd.read_excel(path, header=4)\n",
    "        case \".xlsb\":\n",
    "            _df = pd.read_excel(path, engine='pyxlsb', header=4)\n",
    "    \n",
    "    _df = _df.replace([\"\\)\", \",\"], \"\", regex=True).replace(\"\\(\", \"-\", regex=True)\n",
    "    _df.ACTUAL = _df.ACTUAL.astype(float)\n",
    "    if \"RATE\" in _df.columns:\n",
    "        print(\"hi\")\n",
    "        _df.RATE = _df.RATE.astype(float)\n",
    "    \n",
    "    return _df"
   ]
  },
  {
   "cell_type": "code",
   "execution_count": 9,
   "metadata": {},
   "outputs": [],
   "source": [
    "def read_payroll(path) -> pd.DataFrame:\n",
    "    extension = os.path.splitext(path)[1]\n",
    "\n",
    "    if extension == \".pdf\":\n",
    "        return read_pdf_payroll(path)\n",
    "    else:\n",
    "        return read_sheet(path, extension)\n",
    "\n",
    "\n",
    "def read_purchase_order(path) -> pd.DataFrame:\n",
    "    extension = os.path.splitext(path)[1]\n",
    "\n",
    "    if extension == \".pdf\":\n",
    "        return read_pdf_purchase_order(path)\n",
    "    else:\n",
    "        return read_sheet(path, extension)"
   ]
  },
  {
   "cell_type": "code",
   "execution_count": 10,
   "metadata": {},
   "outputs": [
    {
     "name": "stdout",
     "output_type": "stream",
     "text": [
      "hi\n",
      "22003_EA\n",
      "22004_USPS\n",
      "hi\n",
      "22007_JOEL\n",
      "hi\n",
      "22005_CORCEPT\n"
     ]
    }
   ],
   "source": [
    "start_dir = \"data/JOB_ACTUALS\"\n",
    "\n",
    "payroll_dfs = []\n",
    "\n",
    "\n",
    "for directory in os.listdir(start_dir):\n",
    "    dir_path = os.path.join(start_dir, directory)\n",
    "    good = True\n",
    "    dir_files = {}\n",
    "\n",
    "    if os.path.isdir(dir_path):\n",
    "        for file in os.listdir(dir_path):\n",
    "            file_path = os.path.join(dir_path, file)\n",
    "            _type = classify_file(file_path)\n",
    "            if not _type in dir_files:\n",
    "                dir_files[_type] = []\n",
    "            \n",
    "            dir_files[_type].append(file_path)\n",
    "    \n",
    "    for _type in [\"PO\", \"PR\", \"CS\"]:\n",
    "        if not _type in dir_files:\n",
    "            good = False\n",
    "    \n",
    "    if dir_files.get(\"PR\"):\n",
    "        for pr_path in dir_files.get(\"PR\"):\n",
    "            df = read_payroll(pr_path)\n",
    "            df[\"PROJECT_NAME\"] = directory\n",
    "            payroll_dfs.append(df)\n",
    "\n",
    "    \n",
    "    if good:\n",
    "        print(directory)\n",
    "        \n",
    "    \n"
   ]
  },
  {
   "cell_type": "code",
   "execution_count": 11,
   "metadata": {},
   "outputs": [],
   "source": [
    "pr_combined = pd.concat(payroll_dfs)\n",
    "pr_combined.RATE = pr_combined.RATE.astype(float)\n",
    "pr_combined.DAYS = pr_combined.DAYS.astype(float)\n",
    "\n",
    "pr_combined[\"EST\"] = pr_combined.RATE * pr_combined.DAYS\n",
    "pr_combined[\"VARIANCE\"] = pr_combined.ACTUAL - pr_combined.EST\n",
    "pr_combined[\"VAR_PCT\"] = pr_combined.VARIANCE / pr_combined.EST\n",
    "pr_combined[\"SECTION\"] = pr_combined.LINE.apply(get_dept_from_line)\n"
   ]
  },
  {
   "cell_type": "code",
   "execution_count": 12,
   "metadata": {},
   "outputs": [
    {
     "data": {
      "text/plain": [
       "array(['22003_EA', '22004_USPS', '22007_JOEL', '22005_CORCEPT'],\n",
       "      dtype=object)"
      ]
     },
     "execution_count": 12,
     "metadata": {},
     "output_type": "execute_result"
    }
   ],
   "source": [
    "pr_combined.PROJECT_NAME.unique()"
   ]
  },
  {
   "cell_type": "code",
   "execution_count": 17,
   "metadata": {},
   "outputs": [
    {
     "name": "stderr",
     "output_type": "stream",
     "text": [
      "/var/folders/6g/3tz5tpjs4zj1cqs2xh_sq0m40000gn/T/ipykernel_85603/2065990332.py:6: FutureWarning: The default value of numeric_only in DataFrameGroupBy.mean is deprecated. In a future version, numeric_only will default to False. Either specify numeric_only or select only columns which should be valid for the function.\n",
      "  pr_combined.groupby(BY).mean().sort_values(FOR, ascending=True).query(\"%s > 0\" % FOR)[FOR].plot(kind=\"barh\", ax=ax)\n"
     ]
    },
    {
     "data": {
      "text/plain": [
       "Text(0.5, 0, 'Amount Over Budget ($)')"
      ]
     },
     "execution_count": 17,
     "metadata": {},
     "output_type": "execute_result"
    },
    {
     "data": {
      "image/png": "[encoded data removed]",
      "text/plain": [
       "<Figure size 1000x1000 with 1 Axes>"
      ]
     },
     "metadata": {},
     "output_type": "display_data"
    }
   ],
   "source": [
    "fig, ax = plt.subplots(figsize=(10, 10))\n",
    "\n",
    "BY = \"SECTION\"\n",
    "FOR = \"VARIANCE\"\n",
    "\n",
    "pr_combined.groupby(BY).mean().sort_values(FOR, ascending=True).query(\"%s > 0\" % FOR)[FOR].plot(kind=\"barh\", ax=ax)\n",
    "\n",
    "ax.set_title(\"Payee's Going Over Budget\")\n",
    "ax.set_ylabel(\"Payee\")\n",
    "ax.set_xlabel(\"Amount Over Budget ($)\")"
   ]
  }
 ],
 "metadata": {
  "kernelspec": {
   "display_name": "626venv",
   "language": "python",
   "name": "python3"
  },
  "language_info": {
   "codemirror_mode": {
    "name": "ipython",
    "version": 3
   },
   "file_extension": ".py",
   "mimetype": "text/x-python",
   "name": "python",
   "nbconvert_exporter": "python",
   "pygments_lexer": "ipython3",
   "version": "3.10.6"
  },
  "orig_nbformat": 4
 },
 "nbformat": 4,
 "nbformat_minor": 2
}
